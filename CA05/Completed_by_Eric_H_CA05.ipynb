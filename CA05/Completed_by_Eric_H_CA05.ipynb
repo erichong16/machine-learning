{
  "nbformat": 4,
  "nbformat_minor": 0,
  "metadata": {
    "colab": {
      "name": "Completed by Eric H. CA05.ipynb",
      "provenance": []
    },
    "kernelspec": {
      "name": "python3",
      "display_name": "Python 3"
    },
    "language_info": {
      "name": "python"
    }
  },
  "cells": [
    {
      "cell_type": "code",
      "metadata": {
        "colab": {
          "base_uri": "https://localhost:8080/"
        },
        "id": "TqxbJQzTRyJR",
        "outputId": "cefbdc6e-cde0-438d-9986-264be800bf6b"
      },
      "source": [
        "#Mounting Google Drive to pass on documents easier\n",
        "from google.colab import drive\n",
        "drive.mount('/content/drive')"
      ],
      "execution_count": 1,
      "outputs": [
        {
          "output_type": "stream",
          "text": [
            "Mounted at /content/drive\n"
          ],
          "name": "stdout"
        }
      ]
    },
    {
      "cell_type": "code",
      "metadata": {
        "id": "n6EvUSHiSD9G"
      },
      "source": [
        "import pandas as pd\n",
        "cardiovasc = pd.read_csv('/content/drive/MyDrive/MSBA_Colab_2020/ML_Algorithms/CA05/cvd_data.csv')"
      ],
      "execution_count": 3,
      "outputs": []
    },
    {
      "cell_type": "code",
      "metadata": {
        "colab": {
          "base_uri": "https://localhost:8080/",
          "height": 204
        },
        "id": "DRmBjmxJTP98",
        "outputId": "a3769b36-d70f-423f-d9ff-fc957426a65f"
      },
      "source": [
        "cardiovasc.head()"
      ],
      "execution_count": 4,
      "outputs": [
        {
          "output_type": "execute_result",
          "data": {
            "text/html": [
              "<div>\n",
              "<style scoped>\n",
              "    .dataframe tbody tr th:only-of-type {\n",
              "        vertical-align: middle;\n",
              "    }\n",
              "\n",
              "    .dataframe tbody tr th {\n",
              "        vertical-align: top;\n",
              "    }\n",
              "\n",
              "    .dataframe thead th {\n",
              "        text-align: right;\n",
              "    }\n",
              "</style>\n",
              "<table border=\"1\" class=\"dataframe\">\n",
              "  <thead>\n",
              "    <tr style=\"text-align: right;\">\n",
              "      <th></th>\n",
              "      <th>cvd_4types</th>\n",
              "      <th>age_s1</th>\n",
              "      <th>race</th>\n",
              "      <th>educat</th>\n",
              "      <th>mstat</th>\n",
              "      <th>hip</th>\n",
              "      <th>neck20</th>\n",
              "      <th>waist</th>\n",
              "      <th>av_weight_kg</th>\n",
              "      <th>cgpkyr</th>\n",
              "      <th>tea15</th>\n",
              "      <th>srhype</th>\n",
              "      <th>parrptdiab</th>\n",
              "      <th>bend25</th>\n",
              "      <th>happy25</th>\n",
              "      <th>tired25</th>\n",
              "      <th>hlthlm25</th>\n",
              "    </tr>\n",
              "  </thead>\n",
              "  <tbody>\n",
              "    <tr>\n",
              "      <th>0</th>\n",
              "      <td>0</td>\n",
              "      <td>54</td>\n",
              "      <td>1</td>\n",
              "      <td>2</td>\n",
              "      <td>1</td>\n",
              "      <td>110.0</td>\n",
              "      <td>40.0</td>\n",
              "      <td>108.0</td>\n",
              "      <td>87.5</td>\n",
              "      <td>34.0</td>\n",
              "      <td>0</td>\n",
              "      <td>1</td>\n",
              "      <td>0</td>\n",
              "      <td>1</td>\n",
              "      <td>2</td>\n",
              "      <td>3</td>\n",
              "      <td>4</td>\n",
              "    </tr>\n",
              "    <tr>\n",
              "      <th>1</th>\n",
              "      <td>0</td>\n",
              "      <td>56</td>\n",
              "      <td>3</td>\n",
              "      <td>2</td>\n",
              "      <td>1</td>\n",
              "      <td>113.0</td>\n",
              "      <td>34.0</td>\n",
              "      <td>107.0</td>\n",
              "      <td>83.5</td>\n",
              "      <td>0.0</td>\n",
              "      <td>0</td>\n",
              "      <td>0</td>\n",
              "      <td>0</td>\n",
              "      <td>2</td>\n",
              "      <td>2</td>\n",
              "      <td>1</td>\n",
              "      <td>3</td>\n",
              "    </tr>\n",
              "    <tr>\n",
              "      <th>2</th>\n",
              "      <td>0</td>\n",
              "      <td>54</td>\n",
              "      <td>1</td>\n",
              "      <td>3</td>\n",
              "      <td>1</td>\n",
              "      <td>110.0</td>\n",
              "      <td>44.5</td>\n",
              "      <td>105.0</td>\n",
              "      <td>86.2</td>\n",
              "      <td>49.5</td>\n",
              "      <td>0</td>\n",
              "      <td>0</td>\n",
              "      <td>0</td>\n",
              "      <td>3</td>\n",
              "      <td>2</td>\n",
              "      <td>6</td>\n",
              "      <td>4</td>\n",
              "    </tr>\n",
              "    <tr>\n",
              "      <th>3</th>\n",
              "      <td>0</td>\n",
              "      <td>54</td>\n",
              "      <td>1</td>\n",
              "      <td>3</td>\n",
              "      <td>1</td>\n",
              "      <td>129.0</td>\n",
              "      <td>42.5</td>\n",
              "      <td>110.0</td>\n",
              "      <td>89.1</td>\n",
              "      <td>0.0</td>\n",
              "      <td>0</td>\n",
              "      <td>0</td>\n",
              "      <td>0</td>\n",
              "      <td>3</td>\n",
              "      <td>2</td>\n",
              "      <td>1</td>\n",
              "      <td>3</td>\n",
              "    </tr>\n",
              "    <tr>\n",
              "      <th>4</th>\n",
              "      <td>0</td>\n",
              "      <td>51</td>\n",
              "      <td>3</td>\n",
              "      <td>2</td>\n",
              "      <td>1</td>\n",
              "      <td>122.0</td>\n",
              "      <td>37.0</td>\n",
              "      <td>113.0</td>\n",
              "      <td>81.3</td>\n",
              "      <td>0.0</td>\n",
              "      <td>0</td>\n",
              "      <td>0</td>\n",
              "      <td>0</td>\n",
              "      <td>2</td>\n",
              "      <td>1</td>\n",
              "      <td>1</td>\n",
              "      <td>2</td>\n",
              "    </tr>\n",
              "  </tbody>\n",
              "</table>\n",
              "</div>"
            ],
            "text/plain": [
              "   cvd_4types  age_s1  race  educat  ...  bend25  happy25  tired25  hlthlm25\n",
              "0           0      54     1       2  ...       1        2        3         4\n",
              "1           0      56     3       2  ...       2        2        1         3\n",
              "2           0      54     1       3  ...       3        2        6         4\n",
              "3           0      54     1       3  ...       3        2        1         3\n",
              "4           0      51     3       2  ...       2        1        1         2\n",
              "\n",
              "[5 rows x 17 columns]"
            ]
          },
          "metadata": {
            "tags": []
          },
          "execution_count": 4
        }
      ]
    },
    {
      "cell_type": "markdown",
      "metadata": {
        "id": "0YE-fROHTuyE"
      },
      "source": [
        "**Labelling the meaning of columns**"
      ]
    },
    {
      "cell_type": "markdown",
      "metadata": {
        "id": "VLTWGDk6TqRS"
      },
      "source": [
        "cvd_4types - 0 No risk, 1 risk present\n",
        "\n",
        "age_s1 - Age\n",
        "\n",
        "Race - 1 - White, 2 - Black, 3 – Other\n",
        "\n",
        "educat - Higher the label -> more years in education\n",
        "\n",
        "mstat - Marital Status 1: married 2: widowed 3: divorced/separated 4: never married 8: unknown/refused\n",
        "\n",
        "hip - hip size\n",
        "\n",
        "neck20 - not listed \n",
        "\n",
        "waist - waist size\n",
        "\n",
        "av_weight_kg - weight\n",
        "\n",
        "cgpkyr - Cigarette packs per year\n",
        "\n",
        "tea15 - tea per day\n",
        "\n",
        "srhype - Self-reported hypertension 0 no 1 yes\n",
        "\n",
        "parrptdiab - History of diabetes 0 no 1 yes\n",
        "\n",
        "bend25 - QOL bending actions 1 bad 2 soso 3 good\n",
        "\n",
        "happy25 - happy 1: All of the time 2: Most of the time 3: A good bit of the time 4: Some of the time 5: A little of time 6: None of the time\n",
        "\n",
        "tired25 - tired 1: All of the time 2: Most of the time 3: A good bit of the time 4: Some of the time 5: A little of time 6: None of the time\n",
        "\n",
        "hlthlm25 - health limited social activity 1: All of the time 2: Most of the time 3: Some of the time 4: A little of the time 5: None of the time "
      ]
    },
    {
      "cell_type": "markdown",
      "metadata": {
        "id": "1iLMNE6pSkiN"
      },
      "source": [
        "**Part 1 - build a binary classifier model to predict the CVD Risk (Yes/No, or 1/0) using a Logistic\n",
        "Regression Model with the best performance possible**"
      ]
    },
    {
      "cell_type": "code",
      "metadata": {
        "colab": {
          "base_uri": "https://localhost:8080/"
        },
        "id": "7Pz2uaCmWSzJ",
        "outputId": "9f501854-92f0-4c5d-d24d-48cb5132c6ad"
      },
      "source": [
        "#Data Cleaning\n",
        "cardiovasc.isnull().sum()\n",
        "#No null values"
      ],
      "execution_count": 5,
      "outputs": [
        {
          "output_type": "execute_result",
          "data": {
            "text/plain": [
              "cvd_4types      0\n",
              "age_s1          0\n",
              "race            0\n",
              "educat          0\n",
              "mstat           0\n",
              "hip             0\n",
              "neck20          0\n",
              "waist           0\n",
              "av_weight_kg    0\n",
              "cgpkyr          0\n",
              "tea15           0\n",
              "srhype          0\n",
              "parrptdiab      0\n",
              "bend25          0\n",
              "happy25         0\n",
              "tired25         0\n",
              "hlthlm25        0\n",
              "dtype: int64"
            ]
          },
          "metadata": {
            "tags": []
          },
          "execution_count": 5
        }
      ]
    },
    {
      "cell_type": "code",
      "metadata": {
        "id": "IGn_a7hPeTE4"
      },
      "source": [
        "#Before running the logistic regression model, I will run a correlation test and determine which variables to use and not use\n",
        "\n",
        "#Multicollinearity affects the coefficients and p-values, but it does not influence the predictions, precision of the predictions, \n",
        "#and the goodness-of-fit statistics. If your primary goal is to make predictions, and you don’t need to understand the role of each \n",
        "#independent variable, you don’t need to reduce severe multicollinearity.\n",
        "\n",
        "#Source\n",
        "#\"https://statisticsbyjim.com/regression/multicollinearity-in-regression-analysis/#:~:text=Fortunately%2C%20there%20is%20a%20very,VIF%20for%20each%20independent%20variable.\"\n",
        "\n",
        "#Since I will be focusing more on the precision of the predictions, specifically ROC, I would just get straight into the setup of the logistic regression\n",
        "#I will set Y value as the label and X value as the other variables\n",
        "#X =  cardiovasc.cvd_4types\n",
        "X =  cardiovasc.iloc[:,1:]\n",
        "y = cardiovasc.loc[:,'cvd_4types']"
      ],
      "execution_count": 38,
      "outputs": []
    },
    {
      "cell_type": "code",
      "metadata": {
        "colab": {
          "base_uri": "https://localhost:8080/"
        },
        "id": "piXRPxU_B_nq",
        "outputId": "aeb73de9-4ce1-43e7-b2b3-a4686d06e798"
      },
      "source": [
        "X.shape"
      ],
      "execution_count": 39,
      "outputs": [
        {
          "output_type": "execute_result",
          "data": {
            "text/plain": [
              "(3242, 16)"
            ]
          },
          "metadata": {
            "tags": []
          },
          "execution_count": 39
        }
      ]
    },
    {
      "cell_type": "code",
      "metadata": {
        "colab": {
          "base_uri": "https://localhost:8080/"
        },
        "id": "P4IR63fYCBi6",
        "outputId": "16961af8-232a-4046-e737-5120b71c74f6"
      },
      "source": [
        "y.shape"
      ],
      "execution_count": 40,
      "outputs": [
        {
          "output_type": "execute_result",
          "data": {
            "text/plain": [
              "(3242,)"
            ]
          },
          "metadata": {
            "tags": []
          },
          "execution_count": 40
        }
      ]
    },
    {
      "cell_type": "code",
      "metadata": {
        "id": "SFCfsDWuLhNZ"
      },
      "source": [
        "#Split X y into train and test data\n",
        "from sklearn.model_selection import train_test_split\n",
        "X_train, X_test, y_train, y_test = train_test_split(X, y, random_state=1)"
      ],
      "execution_count": 56,
      "outputs": []
    },
    {
      "cell_type": "code",
      "metadata": {
        "id": "Gigzi4XGswoQ"
      },
      "source": [
        "from sklearn import linear_model\n",
        "clf = linear_model.LogisticRegression(C=1e40, solver = 'newton-cg')\n",
        "fitted_model = clf.fit(X, y)"
      ],
      "execution_count": 65,
      "outputs": []
    },
    {
      "cell_type": "code",
      "metadata": {
        "colab": {
          "base_uri": "https://localhost:8080/"
        },
        "id": "7a8UkbT8KzXE",
        "outputId": "cc1e90bf-d1df-4a45-c73b-9bac0dad63d8"
      },
      "source": [
        "#utilize newton-cg to handle multiclass problems and multinomial loss\n",
        "#Setup c values to be tested \n",
        "from sklearn.metrics import accuracy_score\n",
        "results = []\n",
        "c_values = [1e-100, 1e-50, 1e-35, 1e-15, 1e-5, 1]\n",
        "\n",
        "def prediction():\n",
        "  for value in c_values:\n",
        "    clf = linear_model.LogisticRegression(C=value, solver= 'newton-cg')\n",
        "    clf.fit(X_train, y_train)\n",
        "    y_pred = clf.predict(X_test)\n",
        "    accuracy = accuracy_score(y_test, y_pred)\n",
        "    results.append(accuracy)\n",
        "\n",
        "prediction()\n",
        "print(results)"
      ],
      "execution_count": 144,
      "outputs": [
        {
          "output_type": "stream",
          "text": [
            "[0.6078914919852034, 0.6078914919852034, 0.6078914919852034, 0.6078914919852034, 0.6424167694204685, 0.6979038224414303]\n"
          ],
          "name": "stdout"
        }
      ]
    },
    {
      "cell_type": "markdown",
      "metadata": {
        "id": "POlvzL4Jii_M"
      },
      "source": [
        "From the results we can see that the lower the value of c means there is less regularization. This led to the accuracy score being the lowest. However, if I upped it to the value 1, it would produce the maximum accuracy of 69.7%. Going above the value 1 would generate the same number"
      ]
    },
    {
      "cell_type": "markdown",
      "metadata": {
        "id": "QlgdXTQOjAV5"
      },
      "source": [
        "**Part 2, sort influence of variables by decreasing order**"
      ]
    },
    {
      "cell_type": "code",
      "metadata": {
        "colab": {
          "base_uri": "https://localhost:8080/"
        },
        "id": "r8gpkEe6SwhG",
        "outputId": "f2774d50-47d7-497f-8d31-5b9a38ea8228"
      },
      "source": [
        "#binary classifier model\n",
        "from sklearn.linear_model import LogisticRegression\n",
        "import numpy as np\n",
        "m = LogisticRegression()\n",
        "m.fit(X, y)"
      ],
      "execution_count": 140,
      "outputs": [
        {
          "output_type": "stream",
          "text": [
            "/usr/local/lib/python3.7/dist-packages/sklearn/linear_model/_logistic.py:940: ConvergenceWarning: lbfgs failed to converge (status=1):\n",
            "STOP: TOTAL NO. of ITERATIONS REACHED LIMIT.\n",
            "\n",
            "Increase the number of iterations (max_iter) or scale the data as shown in:\n",
            "    https://scikit-learn.org/stable/modules/preprocessing.html\n",
            "Please also refer to the documentation for alternative solver options:\n",
            "    https://scikit-learn.org/stable/modules/linear_model.html#logistic-regression\n",
            "  extra_warning_msg=_LOGISTIC_SOLVER_CONVERGENCE_MSG)\n"
          ],
          "name": "stderr"
        },
        {
          "output_type": "execute_result",
          "data": {
            "text/plain": [
              "LogisticRegression(C=1.0, class_weight=None, dual=False, fit_intercept=True,\n",
              "                   intercept_scaling=1, l1_ratio=None, max_iter=100,\n",
              "                   multi_class='auto', n_jobs=None, penalty='l2',\n",
              "                   random_state=None, solver='lbfgs', tol=0.0001, verbose=0,\n",
              "                   warm_start=False)"
            ]
          },
          "metadata": {
            "tags": []
          },
          "execution_count": 140
        }
      ]
    },
    {
      "cell_type": "code",
      "metadata": {
        "colab": {
          "base_uri": "https://localhost:8080/"
        },
        "id": "ve7scQTCJver",
        "outputId": "35c84097-7c01-4010-c816-162910f57b15"
      },
      "source": [
        "m.fit(X / np.std(X, 0), y)\n",
        "print(m.coef_)\n",
        "variablecoef = []\n",
        "variablecoef.append(m.coef_)"
      ],
      "execution_count": 92,
      "outputs": [
        {
          "output_type": "stream",
          "text": [
            "[[ 8.65518062e-03 -3.71281981e-01  1.82519151e-01 -1.36923714e-01\n",
            "  -6.03138231e-01 -1.82348735e-01  1.12619581e+00 -2.33006991e-01\n",
            "   6.11148106e-04 -6.65511918e-02  7.27625551e-02  1.59314337e-01\n",
            "   8.81622694e-02 -8.32966741e-02  1.17355362e-01 -3.62121046e-01]]\n"
          ],
          "name": "stdout"
        }
      ]
    },
    {
      "cell_type": "code",
      "metadata": {
        "id": "KMTAE0voPpnq"
      },
      "source": [
        "variablecoeff = pd.DataFrame(m.coef_)"
      ],
      "execution_count": 108,
      "outputs": []
    },
    {
      "cell_type": "code",
      "metadata": {
        "colab": {
          "base_uri": "https://localhost:8080/",
          "height": 80
        },
        "id": "KrEonzYQPxWT",
        "outputId": "0d87a8db-db95-4c61-d511-f4a14aa0abb9"
      },
      "source": [
        "variablecoeff.rename(columns = {0: 'age_s1',\n",
        "                                1:\t'race',\n",
        "                                2:\t'educat',\n",
        "                                3:\t'mstat',\n",
        "                                4:\t'hip',\n",
        "                                5:\t'neck20',\n",
        "                                6:\t'waist',\n",
        "                                7:\t'av_weight_kg',\n",
        "                                8:\t'cgpkyr',\n",
        "                                9:\t'tea15',\n",
        "                                10:\t'srhype',\n",
        "                                11:\t'parrptdiab',\n",
        "                                12:\t'bend25',\n",
        "                                13:\t'happy25',\n",
        "                                14:\t'tired25',\n",
        "                                15:\t'hlthlm25'}, inplace = True)\n",
        "variablecoeff.head()"
      ],
      "execution_count": 109,
      "outputs": [
        {
          "output_type": "execute_result",
          "data": {
            "text/html": [
              "<div>\n",
              "<style scoped>\n",
              "    .dataframe tbody tr th:only-of-type {\n",
              "        vertical-align: middle;\n",
              "    }\n",
              "\n",
              "    .dataframe tbody tr th {\n",
              "        vertical-align: top;\n",
              "    }\n",
              "\n",
              "    .dataframe thead th {\n",
              "        text-align: right;\n",
              "    }\n",
              "</style>\n",
              "<table border=\"1\" class=\"dataframe\">\n",
              "  <thead>\n",
              "    <tr style=\"text-align: right;\">\n",
              "      <th></th>\n",
              "      <th>age_s1</th>\n",
              "      <th>race</th>\n",
              "      <th>educat</th>\n",
              "      <th>mstat</th>\n",
              "      <th>hip</th>\n",
              "      <th>neck20</th>\n",
              "      <th>waist</th>\n",
              "      <th>av_weight_kg</th>\n",
              "      <th>cgpkyr</th>\n",
              "      <th>tea15</th>\n",
              "      <th>srhype</th>\n",
              "      <th>parrptdiab</th>\n",
              "      <th>bend25</th>\n",
              "      <th>happy25</th>\n",
              "      <th>tired25</th>\n",
              "      <th>hlthlm25</th>\n",
              "    </tr>\n",
              "  </thead>\n",
              "  <tbody>\n",
              "    <tr>\n",
              "      <th>0</th>\n",
              "      <td>0.008655</td>\n",
              "      <td>-0.371282</td>\n",
              "      <td>0.182519</td>\n",
              "      <td>-0.136924</td>\n",
              "      <td>-0.603138</td>\n",
              "      <td>-0.182349</td>\n",
              "      <td>1.126196</td>\n",
              "      <td>-0.233007</td>\n",
              "      <td>0.000611</td>\n",
              "      <td>-0.066551</td>\n",
              "      <td>0.072763</td>\n",
              "      <td>0.159314</td>\n",
              "      <td>0.088162</td>\n",
              "      <td>-0.083297</td>\n",
              "      <td>0.117355</td>\n",
              "      <td>-0.362121</td>\n",
              "    </tr>\n",
              "  </tbody>\n",
              "</table>\n",
              "</div>"
            ],
            "text/plain": [
              "     age_s1      race    educat  ...   happy25   tired25  hlthlm25\n",
              "0  0.008655 -0.371282  0.182519  ... -0.083297  0.117355 -0.362121\n",
              "\n",
              "[1 rows x 16 columns]"
            ]
          },
          "metadata": {
            "tags": []
          },
          "execution_count": 109
        }
      ]
    },
    {
      "cell_type": "code",
      "metadata": {
        "id": "Is6cS32sRpZT"
      },
      "source": [
        "variablecoeff = variablecoeff.T"
      ],
      "execution_count": 110,
      "outputs": []
    },
    {
      "cell_type": "code",
      "metadata": {
        "colab": {
          "base_uri": "https://localhost:8080/",
          "height": 545
        },
        "id": "svuO4206RtFp",
        "outputId": "d22fd19d-b321-480e-bdf3-f43f0657b126"
      },
      "source": [
        "variablecoeff.rename(columns = {0: 'coefficient'}, inplace = True)\n",
        "variablecoeff"
      ],
      "execution_count": 115,
      "outputs": [
        {
          "output_type": "execute_result",
          "data": {
            "text/html": [
              "<div>\n",
              "<style scoped>\n",
              "    .dataframe tbody tr th:only-of-type {\n",
              "        vertical-align: middle;\n",
              "    }\n",
              "\n",
              "    .dataframe tbody tr th {\n",
              "        vertical-align: top;\n",
              "    }\n",
              "\n",
              "    .dataframe thead th {\n",
              "        text-align: right;\n",
              "    }\n",
              "</style>\n",
              "<table border=\"1\" class=\"dataframe\">\n",
              "  <thead>\n",
              "    <tr style=\"text-align: right;\">\n",
              "      <th></th>\n",
              "      <th>coefficient</th>\n",
              "    </tr>\n",
              "  </thead>\n",
              "  <tbody>\n",
              "    <tr>\n",
              "      <th>age_s1</th>\n",
              "      <td>0.008655</td>\n",
              "    </tr>\n",
              "    <tr>\n",
              "      <th>race</th>\n",
              "      <td>-0.371282</td>\n",
              "    </tr>\n",
              "    <tr>\n",
              "      <th>educat</th>\n",
              "      <td>0.182519</td>\n",
              "    </tr>\n",
              "    <tr>\n",
              "      <th>mstat</th>\n",
              "      <td>-0.136924</td>\n",
              "    </tr>\n",
              "    <tr>\n",
              "      <th>hip</th>\n",
              "      <td>-0.603138</td>\n",
              "    </tr>\n",
              "    <tr>\n",
              "      <th>neck20</th>\n",
              "      <td>-0.182349</td>\n",
              "    </tr>\n",
              "    <tr>\n",
              "      <th>waist</th>\n",
              "      <td>1.126196</td>\n",
              "    </tr>\n",
              "    <tr>\n",
              "      <th>av_weight_kg</th>\n",
              "      <td>-0.233007</td>\n",
              "    </tr>\n",
              "    <tr>\n",
              "      <th>cgpkyr</th>\n",
              "      <td>0.000611</td>\n",
              "    </tr>\n",
              "    <tr>\n",
              "      <th>tea15</th>\n",
              "      <td>-0.066551</td>\n",
              "    </tr>\n",
              "    <tr>\n",
              "      <th>srhype</th>\n",
              "      <td>0.072763</td>\n",
              "    </tr>\n",
              "    <tr>\n",
              "      <th>parrptdiab</th>\n",
              "      <td>0.159314</td>\n",
              "    </tr>\n",
              "    <tr>\n",
              "      <th>bend25</th>\n",
              "      <td>0.088162</td>\n",
              "    </tr>\n",
              "    <tr>\n",
              "      <th>happy25</th>\n",
              "      <td>-0.083297</td>\n",
              "    </tr>\n",
              "    <tr>\n",
              "      <th>tired25</th>\n",
              "      <td>0.117355</td>\n",
              "    </tr>\n",
              "    <tr>\n",
              "      <th>hlthlm25</th>\n",
              "      <td>-0.362121</td>\n",
              "    </tr>\n",
              "  </tbody>\n",
              "</table>\n",
              "</div>"
            ],
            "text/plain": [
              "              coefficient\n",
              "age_s1           0.008655\n",
              "race            -0.371282\n",
              "educat           0.182519\n",
              "mstat           -0.136924\n",
              "hip             -0.603138\n",
              "neck20          -0.182349\n",
              "waist            1.126196\n",
              "av_weight_kg    -0.233007\n",
              "cgpkyr           0.000611\n",
              "tea15           -0.066551\n",
              "srhype           0.072763\n",
              "parrptdiab       0.159314\n",
              "bend25           0.088162\n",
              "happy25         -0.083297\n",
              "tired25          0.117355\n",
              "hlthlm25        -0.362121"
            ]
          },
          "metadata": {
            "tags": []
          },
          "execution_count": 115
        }
      ]
    },
    {
      "cell_type": "code",
      "metadata": {
        "colab": {
          "base_uri": "https://localhost:8080/",
          "height": 340
        },
        "id": "CbYzCo-oSEHh",
        "outputId": "89e2f979-a957-47a3-e9a9-559b4bfaec92"
      },
      "source": [
        "variablecoeff.sort_values('coefficient', ascending=False).plot.bar()"
      ],
      "execution_count": 113,
      "outputs": [
        {
          "output_type": "execute_result",
          "data": {
            "text/plain": [
              "<matplotlib.axes._subplots.AxesSubplot at 0x7f0c80a3f910>"
            ]
          },
          "metadata": {
            "tags": []
          },
          "execution_count": 113
        },
        {
          "output_type": "display_data",
          "data": {
            "image/png": "[encoded data removed]",
            "text/plain": [
              "<Figure size 432x288 with 1 Axes>"
            ]
          },
          "metadata": {
            "tags": [],
            "needs_background": "light"
          }
        }
      ]
    },
    {
      "cell_type": "code",
      "metadata": {
        "colab": {
          "base_uri": "https://localhost:8080/",
          "height": 142
        },
        "id": "YXsCGVnugtkz",
        "outputId": "b42e7667-b538-49dd-9106-af605451c43d"
      },
      "source": [
        "import pandas as pd\n",
        "confusionmatrix = pd.crosstab(y_test, y_pred, rownames=['Actual'], colnames=['Predicted'])"
      ],
      "execution_count": 127,
      "outputs": [
        {
          "output_type": "execute_result",
          "data": {
            "text/html": [
              "<div>\n",
              "<style scoped>\n",
              "    .dataframe tbody tr th:only-of-type {\n",
              "        vertical-align: middle;\n",
              "    }\n",
              "\n",
              "    .dataframe tbody tr th {\n",
              "        vertical-align: top;\n",
              "    }\n",
              "\n",
              "    .dataframe thead th {\n",
              "        text-align: right;\n",
              "    }\n",
              "</style>\n",
              "<table border=\"1\" class=\"dataframe\">\n",
              "  <thead>\n",
              "    <tr style=\"text-align: right;\">\n",
              "      <th>Predicted</th>\n",
              "      <th>0</th>\n",
              "      <th>1</th>\n",
              "    </tr>\n",
              "    <tr>\n",
              "      <th>Actual</th>\n",
              "      <th></th>\n",
              "      <th></th>\n",
              "    </tr>\n",
              "  </thead>\n",
              "  <tbody>\n",
              "    <tr>\n",
              "      <th>0</th>\n",
              "      <td>146</td>\n",
              "      <td>172</td>\n",
              "    </tr>\n",
              "    <tr>\n",
              "      <th>1</th>\n",
              "      <td>71</td>\n",
              "      <td>422</td>\n",
              "    </tr>\n",
              "  </tbody>\n",
              "</table>\n",
              "</div>"
            ],
            "text/plain": [
              "Predicted    0    1\n",
              "Actual             \n",
              "0          146  172\n",
              "1           71  422"
            ]
          },
          "metadata": {
            "tags": []
          },
          "execution_count": 127
        }
      ]
    },
    {
      "cell_type": "code",
      "metadata": {
        "id": "QxAuiTR9gzGY"
      },
      "source": [
        "#fpr = FP / (FP+TN)\n",
        "#tpr = TP / (TP+FN)\n",
        "fpr = 71/(71+422)\n",
        "tpr = 146 / (146+172)"
      ],
      "execution_count": 137,
      "outputs": []
    },
    {
      "cell_type": "code",
      "metadata": {
        "colab": {
          "base_uri": "https://localhost:8080/"
        },
        "id": "hi-V2SrcgZzo",
        "outputId": "7df661de-6a6d-4547-f613-f8f46dd6a1c9"
      },
      "source": [
        "#Calculating the AUC score\n",
        "from sklearn.metrics import roc_curve, roc_auc_score\n",
        "roc_score = roc_auc_score(y_test, y_pred)"
      ],
      "execution_count": 135,
      "outputs": [
        {
          "output_type": "execute_result",
          "data": {
            "text/plain": [
              "0.6575516348374093"
            ]
          },
          "metadata": {
            "tags": []
          },
          "execution_count": 135
        }
      ]
    },
    {
      "cell_type": "code",
      "metadata": {
        "id": "yJS_ZKgFhfqS"
      },
      "source": [
        "roc_fpr, roc_tpr, _ = roc_curve(y_test, y_pred)"
      ],
      "execution_count": 138,
      "outputs": []
    },
    {
      "cell_type": "code",
      "metadata": {
        "colab": {
          "base_uri": "https://localhost:8080/",
          "height": 295
        },
        "id": "eE8Ail5bgSDq",
        "outputId": "dbe1be93-5050-4b6c-f736-7f5b3490d900"
      },
      "source": [
        "#Graphing the ROC curve\n",
        "import matplotlib.pyplot as plt\n",
        "plt.plot(roc_fpr, roc_tpr, linestyle = '--', label = 'Random Prediction' % roc_score)\n",
        "         \n",
        "#Title \n",
        "plt.title('ROC plot')\n",
        "#Axis Labels\n",
        "plt.xlabel('False Positive Rate')\n",
        "plt.ylabel('True Positive Rate')\n",
        "#Show Legend\n",
        "plt.legend()\n",
        "\n",
        "plt.show()"
      ],
      "execution_count": 139,
      "outputs": [
        {
          "output_type": "display_data",
          "data": {
            "image/png": "[encoded data removed]",
            "text/plain": [
              "<Figure size 432x288 with 1 Axes>"
            ]
          },
          "metadata": {
            "tags": [],
            "needs_background": "light"
          }
        }
      ]
    },
    {
      "cell_type": "code",
      "metadata": {
        "colab": {
          "base_uri": "https://localhost:8080/"
        },
        "id": "xMB87jU4jLG5",
        "outputId": "46ba862c-20da-46cb-8c36-bf12745ea038"
      },
      "source": [
        "#Precision Score\n",
        "from sklearn.metrics import precision_score\n",
        "precision_score(y_test, y_pred)"
      ],
      "execution_count": 145,
      "outputs": [
        {
          "output_type": "execute_result",
          "data": {
            "text/plain": [
              "0.7104377104377104"
            ]
          },
          "metadata": {
            "tags": []
          },
          "execution_count": 145
        }
      ]
    },
    {
      "cell_type": "code",
      "metadata": {
        "colab": {
          "base_uri": "https://localhost:8080/"
        },
        "id": "5UqjWMNQjSYt",
        "outputId": "3e2035c1-5005-4b1d-e1c6-1776f8d286f8"
      },
      "source": [
        "#Recall\n",
        "from sklearn.metrics import recall_score\n",
        "recall_score(y_test, y_pred)"
      ],
      "execution_count": 146,
      "outputs": [
        {
          "output_type": "execute_result",
          "data": {
            "text/plain": [
              "0.8559837728194726"
            ]
          },
          "metadata": {
            "tags": []
          },
          "execution_count": 146
        }
      ]
    },
    {
      "cell_type": "code",
      "metadata": {
        "colab": {
          "base_uri": "https://localhost:8080/"
        },
        "id": "uQ8Doe46jTnf",
        "outputId": "cc146c87-a61c-4a82-e9c9-49d98a2f3648"
      },
      "source": [
        "#F1 Score\n",
        "from sklearn.metrics import f1_score\n",
        "f1_score(y_test, y_pred)"
      ],
      "execution_count": 147,
      "outputs": [
        {
          "output_type": "execute_result",
          "data": {
            "text/plain": [
              "0.7764489420423183"
            ]
          },
          "metadata": {
            "tags": []
          },
          "execution_count": 147
        }
      ]
    }
  ]
}
{
  "nbformat": 4,
  "nbformat_minor": 0,
  "metadata": {
    "colab": {
      "name": "CA04 ERIC H completed",
      "provenance": [],
      "collapsed_sections": []
    },
    "kernelspec": {
      "name": "python3",
      "display_name": "Python 3"
    }
  },
  "cells": [
    {
      "cell_type": "code",
      "metadata": {
        "colab": {
          "base_uri": "https://localhost:8080/"
        },
        "id": "9hrul0_PNH9i",
        "outputId": "96c8a7d7-6ad1-48de-f23d-4af7e524c7b0"
      },
      "source": [
        "#Mounting Google Drive to pass on documents easier\r\n",
        "from google.colab import drive\r\n",
        "drive.mount('/content/drive')"
      ],
      "execution_count": 2,
      "outputs": [
        {
          "output_type": "stream",
          "text": [
            "Mounted at /content/drive\n"
          ],
          "name": "stdout"
        }
      ]
    },
    {
      "cell_type": "code",
      "metadata": {
        "id": "G8ck-N8QOSR3"
      },
      "source": [
        "import pandas as pd\r\n",
        "census = pd.read_csv('/content/drive/MyDrive/MSBA_Colab_2020/ML_Algorithms/CA03/census_data.csv')"
      ],
      "execution_count": 3,
      "outputs": []
    },
    {
      "cell_type": "code",
      "metadata": {
        "id": "cdIgVukhOta0"
      },
      "source": [
        "censuscategorized = census\r\n",
        "\r\n",
        "censuscategorized.replace(regex={r'[a]. ': 1, r'[b]. ': 2, r'[c]. ': 3, r'[d]. ': 4, r'[e]. ': 5}, inplace = True)\r\n",
        "\r\n",
        "censuscategorizedtrain = censuscategorized[censuscategorized.flag == 'train']\r\n",
        "censuscategorizedtest = censuscategorized[censuscategorized.flag == 'test']"
      ],
      "execution_count": 4,
      "outputs": []
    },
    {
      "cell_type": "code",
      "metadata": {
        "id": "b9m8XshUOUsr"
      },
      "source": [
        "censuscategorizedtrain = censuscategorized[censuscategorized.flag == 'train']\r\n",
        "censuscategorizedtest = censuscategorized[censuscategorized.flag == 'test']"
      ],
      "execution_count": 5,
      "outputs": []
    },
    {
      "cell_type": "code",
      "metadata": {
        "id": "LK9ZZ_1DOptG"
      },
      "source": [
        "#Get rid of y and flag for xTrain and use y for ytrain\r\n",
        "X_train = censuscategorizedtrain.drop(['y', 'flag'], axis='columns', inplace=False)\r\n",
        "y_train = censuscategorizedtrain.y\r\n",
        "\r\n",
        "X_test = censuscategorizedtest.drop(['y', 'flag'], axis='columns', inplace=False)\r\n",
        "y_test = censuscategorizedtest.y"
      ],
      "execution_count": 6,
      "outputs": []
    },
    {
      "cell_type": "code",
      "metadata": {
        "colab": {
          "base_uri": "https://localhost:8080/",
          "height": 282
        },
        "id": "_hOogAIyPxz3",
        "outputId": "3a32d3f6-ca2b-4af8-ed1f-87de8393f363"
      },
      "source": [
        "from sklearn.tree import DecisionTreeClassifier\r\n",
        "import numpy as np\r\n",
        "import matplotlib.pyplot as plt\r\n",
        "results = []\r\n",
        "max_depth_options = [1,2,3,4,5,6,7,8,9,10]\r\n",
        "\r\n",
        "for trees in max_depth_options:\r\n",
        "  model = DecisionTreeClassifier(max_depth=trees, random_state = 101)\r\n",
        "  model.fit(X_train, y_train)\r\n",
        "  y_pred = model.predict(X_test)\r\n",
        "  accuracy = np.mean(y_test == y_pred)\r\n",
        "  results.append(accuracy)\r\n",
        "\r\n",
        "plt.figure(figsize=(8,4))\r\n",
        "pd.Series(results, max_depth_options).plot(color = \"darkred\", marker = \"o\")"
      ],
      "execution_count": 7,
      "outputs": [
        {
          "output_type": "execute_result",
          "data": {
            "text/plain": [
              "<matplotlib.axes._subplots.AxesSubplot at 0x7f14dd7b9e90>"
            ]
          },
          "metadata": {
            "tags": []
          },
          "execution_count": 7
        },
        {
          "output_type": "display_data",
          "data": {
            "image/png": "[encoded data removed]",
            "text/plain": [
              "<Figure size 576x288 with 1 Axes>"
            ]
          },
          "metadata": {
            "tags": [],
            "needs_background": "light"
          }
        }
      ]
    },
    {
      "cell_type": "markdown",
      "metadata": {
        "id": "JgqDLqynUQi4"
      },
      "source": [
        "**Random Forest Model**"
      ]
    },
    {
      "cell_type": "markdown",
      "metadata": {
        "id": "e99PU_lwjvUt"
      },
      "source": [
        "Build a similar graph with random forest with n values = [50,100,150,200,250,300,350,400,450,500]"
      ]
    },
    {
      "cell_type": "code",
      "metadata": {
        "colab": {
          "base_uri": "https://localhost:8080/",
          "height": 282
        },
        "id": "N9mQbf7ajpoJ",
        "outputId": "d87b5d61-87f1-4790-d825-7ad612290413"
      },
      "source": [
        "#import random forest\r\n",
        "from sklearn.ensemble import RandomForestClassifier\r\n",
        "results = []\r\n",
        "n_estimators = [50,100,150,200,250,300,350,400,450,500]\r\n",
        "\r\n",
        "for trees in n_estimators:\r\n",
        "  model = RandomForestClassifier(n_estimators=trees)\r\n",
        "  model.fit(X_train, y_train)\r\n",
        "  y_pred = model.predict(X_test)\r\n",
        "  accuracy = np.mean(y_test == y_pred)\r\n",
        "  results.append(accuracy)\r\n",
        "\r\n",
        "plt.figure(figsize=(8,4))\r\n",
        "pd.Series(results, n_estimators).plot(color = \"darkred\", marker = \"o\")"
      ],
      "execution_count": 8,
      "outputs": [
        {
          "output_type": "execute_result",
          "data": {
            "text/plain": [
              "<matplotlib.axes._subplots.AxesSubplot at 0x7f14dce75790>"
            ]
          },
          "metadata": {
            "tags": []
          },
          "execution_count": 8
        },
        {
          "output_type": "display_data",
          "data": {
            "image/png": "[encoded data removed]",
            "text/plain": [
              "<Figure size 576x288 with 1 Axes>"
            ]
          },
          "metadata": {
            "tags": [],
            "needs_background": "light"
          }
        }
      ]
    },
    {
      "cell_type": "code",
      "metadata": {
        "colab": {
          "base_uri": "https://localhost:8080/"
        },
        "id": "ZBUn9jHwBxbt",
        "outputId": "594ce51f-30bd-4668-f90b-f0916ee4a4b4"
      },
      "source": [
        "from sklearn.metrics import roc_curve, roc_auc_score\r\n",
        "roc_score = roc_auc_score(y_test, y_pred)\r\n",
        "roc_score"
      ],
      "execution_count": 9,
      "outputs": [
        {
          "output_type": "execute_result",
          "data": {
            "text/plain": [
              "0.7469697026723048"
            ]
          },
          "metadata": {
            "tags": []
          },
          "execution_count": 9
        }
      ]
    },
    {
      "cell_type": "code",
      "metadata": {
        "id": "f01DicVjjqhu"
      },
      "source": [
        "#Accuracy goes on a downward trend on the first 100 n_estimators then slowly goes upwards til 400 before dropping down again\r\n",
        "#optimal value seems to be between the range of 350 - 450. Approximately 400."
      ],
      "execution_count": 10,
      "outputs": []
    },
    {
      "cell_type": "markdown",
      "metadata": {
        "id": "GGmSIOqkUbgS"
      },
      "source": [
        "**ADABOOST**"
      ]
    },
    {
      "cell_type": "code",
      "metadata": {
        "colab": {
          "base_uri": "https://localhost:8080/",
          "height": 282
        },
        "id": "W5DKibm4UqsB",
        "outputId": "ae69d6be-c29e-4e52-b1c4-c14d9ae8d11e"
      },
      "source": [
        "#Setting up function for ADABOOST\r\n",
        "from sklearn.ensemble import AdaBoostClassifier\r\n",
        "results = []\r\n",
        "n_estimators = [50,100,150,200,250,300,350,400,450,500]\r\n",
        "\r\n",
        "for trees in n_estimators:\r\n",
        "  model = AdaBoostClassifier(n_estimators=trees)\r\n",
        "  model.fit(X_train, y_train)\r\n",
        "  y_pred = model.predict(X_test)\r\n",
        "  accuracy = np.mean(y_test == y_pred)\r\n",
        "  results.append(accuracy)\r\n",
        "\r\n",
        "plt.figure(figsize=(8,4))\r\n",
        "pd.Series(results, n_estimators).plot(color = \"darkred\", marker = \"o\")"
      ],
      "execution_count": 11,
      "outputs": [
        {
          "output_type": "execute_result",
          "data": {
            "text/plain": [
              "<matplotlib.axes._subplots.AxesSubplot at 0x7f14dc6d0f90>"
            ]
          },
          "metadata": {
            "tags": []
          },
          "execution_count": 11
        },
        {
          "output_type": "display_data",
          "data": {
            "image/png": "[encoded data removed]",
            "text/plain": [
              "<Figure size 576x288 with 1 Axes>"
            ]
          },
          "metadata": {
            "tags": [],
            "needs_background": "light"
          }
        }
      ]
    },
    {
      "cell_type": "code",
      "metadata": {
        "colab": {
          "base_uri": "https://localhost:8080/"
        },
        "id": "A5OVhsWsxcFl",
        "outputId": "1447b4e7-a0db-4ea5-f7c4-e11151fa96ad"
      },
      "source": [
        "roc_score = roc_auc_score(y_test, y_pred)\r\n",
        "roc_score"
      ],
      "execution_count": 12,
      "outputs": [
        {
          "output_type": "execute_result",
          "data": {
            "text/plain": [
              "0.7460076328264228"
            ]
          },
          "metadata": {
            "tags": []
          },
          "execution_count": 12
        }
      ]
    },
    {
      "cell_type": "code",
      "metadata": {
        "id": "POtb5Gq9VW3U"
      },
      "source": [
        "#Accuracy goes on an upward trend til 100, stagnates to around 150, then drops til it hits 200 n_estimators\r\n",
        "#After that, the line stays static past 200 estimators\r\n",
        "\r\n",
        "#Optimal value seems to be between 90 and 160."
      ],
      "execution_count": 13,
      "outputs": []
    },
    {
      "cell_type": "markdown",
      "metadata": {
        "id": "qNL6MPWOVtUZ"
      },
      "source": [
        "**Gradient Boost (classifier)**"
      ]
    },
    {
      "cell_type": "code",
      "metadata": {
        "colab": {
          "base_uri": "https://localhost:8080/",
          "height": 282
        },
        "id": "lHYjtJ_8Vsva",
        "outputId": "6cacdbc5-b551-4c61-b05b-6ee6e5427135"
      },
      "source": [
        "#Setting Up GradientBoost\r\n",
        "from sklearn.ensemble import GradientBoostingClassifier\r\n",
        "results = []\r\n",
        "n_estimators = [50,100,150,200,250,300,350,400,450,500]\r\n",
        "\r\n",
        "for trees in n_estimators:\r\n",
        "  model = GradientBoostingClassifier(n_estimators=trees)\r\n",
        "  model.fit(X_train, y_train)\r\n",
        "  y_pred = model.predict(X_test)\r\n",
        "  accuracy = np.mean(y_test == y_pred)\r\n",
        "  results.append(accuracy)\r\n",
        "\r\n",
        "plt.figure(figsize=(8,4))\r\n",
        "pd.Series(results, n_estimators).plot(color = \"darkred\", marker = \"o\")"
      ],
      "execution_count": 14,
      "outputs": [
        {
          "output_type": "execute_result",
          "data": {
            "text/plain": [
              "<matplotlib.axes._subplots.AxesSubplot at 0x7f14dc74e810>"
            ]
          },
          "metadata": {
            "tags": []
          },
          "execution_count": 14
        },
        {
          "output_type": "display_data",
          "data": {
            "image/png": "[encoded data removed]",
            "text/plain": [
              "<Figure size 576x288 with 1 Axes>"
            ]
          },
          "metadata": {
            "tags": [],
            "needs_background": "light"
          }
        }
      ]
    },
    {
      "cell_type": "code",
      "metadata": {
        "colab": {
          "base_uri": "https://localhost:8080/"
        },
        "id": "IswUMgxvWO1C",
        "outputId": "b2c72b35-3a77-4941-9f15-b832705207a4"
      },
      "source": [
        "roc_score = roc_auc_score(y_test, y_pred)\r\n",
        "roc_score"
      ],
      "execution_count": 15,
      "outputs": [
        {
          "output_type": "execute_result",
          "data": {
            "text/plain": [
              "0.7609339548491469"
            ]
          },
          "metadata": {
            "tags": []
          },
          "execution_count": 15
        }
      ]
    },
    {
      "cell_type": "code",
      "metadata": {
        "id": "h1Dj5onoWk1J"
      },
      "source": [
        "#There seems to be an up and down pattern going on for this classifier type\r\n",
        "#The optimal value is somewhere between 325 and 375 around 350."
      ],
      "execution_count": 16,
      "outputs": []
    },
    {
      "cell_type": "markdown",
      "metadata": {
        "id": "ljA12ttqWxN8"
      },
      "source": [
        "**XGB Model**"
      ]
    },
    {
      "cell_type": "code",
      "metadata": {
        "id": "coMAFRpGYj05"
      },
      "source": [
        "import xgboost as xgb"
      ],
      "execution_count": 17,
      "outputs": []
    },
    {
      "cell_type": "code",
      "metadata": {
        "colab": {
          "base_uri": "https://localhost:8080/",
          "height": 282
        },
        "id": "GxKoSM1cW0ZP",
        "outputId": "a5db50da-2e23-4a8c-837d-91d07ecf4c84"
      },
      "source": [
        "#Setting Up XGB Model\r\n",
        "\r\n",
        "results = []\r\n",
        "n_estimators = [50,100,150,200,250,300,350,400,450,500]\r\n",
        "for trees in n_estimators:\r\n",
        "  model = xgb.XGBClassifier(n_estimators=trees)\r\n",
        "  model.fit(X_train, y_train)\r\n",
        "  y_pred = model.predict(X_test)\r\n",
        "  accuracy = np.mean(y_test == y_pred)\r\n",
        "  results.append(accuracy)\r\n",
        "\r\n",
        "plt.figure(figsize=(8,4))\r\n",
        "pd.Series(results, n_estimators).plot(color = \"darkred\", marker = \"o\")"
      ],
      "execution_count": 18,
      "outputs": [
        {
          "output_type": "execute_result",
          "data": {
            "text/plain": [
              "<matplotlib.axes._subplots.AxesSubplot at 0x7f14dc65ac90>"
            ]
          },
          "metadata": {
            "tags": []
          },
          "execution_count": 18
        },
        {
          "output_type": "display_data",
          "data": {
            "image/png": "[encoded data removed]",
            "text/plain": [
              "<Figure size 576x288 with 1 Axes>"
            ]
          },
          "metadata": {
            "tags": [],
            "needs_background": "light"
          }
        }
      ]
    },
    {
      "cell_type": "code",
      "metadata": {
        "id": "75kmDTz-Xm_X",
        "colab": {
          "base_uri": "https://localhost:8080/"
        },
        "outputId": "955b648d-24ff-4e9f-88fd-2654abe8b170"
      },
      "source": [
        "roc_score = roc_auc_score(y_test, y_pred)\r\n",
        "roc_score"
      ],
      "execution_count": 19,
      "outputs": [
        {
          "output_type": "execute_result",
          "data": {
            "text/plain": [
              "0.7591849222822954"
            ]
          },
          "metadata": {
            "tags": []
          },
          "execution_count": 19
        }
      ]
    },
    {
      "cell_type": "code",
      "metadata": {
        "id": "MyWoFF4KZeYS"
      },
      "source": [
        "#The pattern here seems to be a downward trend in terms of accuracy\r\n",
        "#the optimal point is somewhere between 75 and 125, around 100"
      ],
      "execution_count": 20,
      "outputs": []
    },
    {
      "cell_type": "markdown",
      "metadata": {
        "id": "O0WCCunRs5Lk"
      },
      "source": [
        "Create a function that generates output of accuracy and AUC on an excel document. The n_estimator value I will be using will be the optimal mean of the values for each classifier above. (150 + 125 + 350 + 100) / 4 = Approximately 181"
      ]
    },
    {
      "cell_type": "code",
      "metadata": {
        "id": "qN7ZAfwms457"
      },
      "source": [
        "EnsembleParameters = pd.read_csv('/content/drive/MyDrive/MSBA_Colab_2020/ML_Algorithms/CA04/EnsembleParameters.csv')"
      ],
      "execution_count": 38,
      "outputs": []
    },
    {
      "cell_type": "code",
      "metadata": {
        "colab": {
          "base_uri": "https://localhost:8080/",
          "height": 173
        },
        "id": "d_emMxtByKn4",
        "outputId": "61e8519c-faf2-4fff-f0a7-48fb70c2d0b7"
      },
      "source": [
        "EnsembleParameters.head()"
      ],
      "execution_count": 39,
      "outputs": [
        {
          "output_type": "execute_result",
          "data": {
            "text/html": [
              "<div>\n",
              "<style scoped>\n",
              "    .dataframe tbody tr th:only-of-type {\n",
              "        vertical-align: middle;\n",
              "    }\n",
              "\n",
              "    .dataframe tbody tr th {\n",
              "        vertical-align: top;\n",
              "    }\n",
              "\n",
              "    .dataframe thead th {\n",
              "        text-align: right;\n",
              "    }\n",
              "</style>\n",
              "<table border=\"1\" class=\"dataframe\">\n",
              "  <thead>\n",
              "    <tr style=\"text-align: right;\">\n",
              "      <th></th>\n",
              "      <th>Classifier</th>\n",
              "      <th>n_estimator</th>\n",
              "      <th>Accuracy</th>\n",
              "      <th>Auc_score</th>\n",
              "    </tr>\n",
              "  </thead>\n",
              "  <tbody>\n",
              "    <tr>\n",
              "      <th>0</th>\n",
              "      <td>Random Forest</td>\n",
              "      <td>181</td>\n",
              "      <td>NaN</td>\n",
              "      <td>NaN</td>\n",
              "    </tr>\n",
              "    <tr>\n",
              "      <th>1</th>\n",
              "      <td>AdaBoost</td>\n",
              "      <td>181</td>\n",
              "      <td>NaN</td>\n",
              "      <td>NaN</td>\n",
              "    </tr>\n",
              "    <tr>\n",
              "      <th>2</th>\n",
              "      <td>Gradient Boost</td>\n",
              "      <td>181</td>\n",
              "      <td>NaN</td>\n",
              "      <td>NaN</td>\n",
              "    </tr>\n",
              "    <tr>\n",
              "      <th>3</th>\n",
              "      <td>XGB</td>\n",
              "      <td>181</td>\n",
              "      <td>NaN</td>\n",
              "      <td>NaN</td>\n",
              "    </tr>\n",
              "  </tbody>\n",
              "</table>\n",
              "</div>"
            ],
            "text/plain": [
              "       Classifier  n_estimator  Accuracy  Auc_score\n",
              "0   Random Forest          181       NaN        NaN\n",
              "1        AdaBoost          181       NaN        NaN\n",
              "2  Gradient Boost          181       NaN        NaN\n",
              "3             XGB          181       NaN        NaN"
            ]
          },
          "metadata": {
            "tags": []
          },
          "execution_count": 39
        }
      ]
    },
    {
      "cell_type": "code",
      "metadata": {
        "id": "prh-1Hom3eCo"
      },
      "source": [
        "from sklearn.metrics import accuracy_score"
      ],
      "execution_count": 24,
      "outputs": []
    },
    {
      "cell_type": "code",
      "metadata": {
        "colab": {
          "base_uri": "https://localhost:8080/",
          "height": 258
        },
        "id": "L6O-sCh6xx-t",
        "outputId": "dc94c574-b124-485a-ac69-53919314d41b"
      },
      "source": [
        "def model():\r\n",
        "  for index, row in EnsembleParameters.iterrows():\r\n",
        "    if row[\"Classifier\"] == \"Random Forest\":\r\n",
        "      model = RandomForestClassifier(n_estimators=row[\"n_estimator\"])\r\n",
        "      model.fit(X_test, y_test)\r\n",
        "      y_pred = model.predict(X_test)\r\n",
        "      accuracy = accuracy_score(y_test, y_pred)\r\n",
        "      roc_score = roc_auc_score(y_test, y_pred)\r\n",
        "      EnsembleParameters.at[index, 'Accuracy'] = accuracy\r\n",
        "      EnsembleParameters.at[index, 'Auc_score'] = roc_score\r\n",
        "    elif row[\"Classifier\"] == \"AdaBoost\":\r\n",
        "      model = AdaBoostClassifier(n_estimators=row[\"n_estimator\"])\r\n",
        "      model.fit(X_test, y_test)\r\n",
        "      y_pred = model.predict(X_test)\r\n",
        "      accuracy = accuracy_score(y_test, y_pred)\r\n",
        "      roc_score = roc_auc_score(y_test, y_pred)\r\n",
        "      EnsembleParameters.at[index, 'Accuracy'] = accuracy\r\n",
        "      EnsembleParameters.at[index, 'Auc_score'] = roc_score\r\n",
        "    elif row[\"Classifier\"] == \"Gradient Boost\":\r\n",
        "      model = GradientBoostingClassifier(n_estimators=row[\"n_estimator\"])\r\n",
        "      model.fit(X_test, y_test)\r\n",
        "      y_pred = model.predict(X_test)\r\n",
        "      accuracy = accuracy_score(y_test, y_pred)\r\n",
        "      roc_score = roc_auc_score(y_test, y_pred)\r\n",
        "      EnsembleParameters.at[index, 'Accuracy'] = accuracy\r\n",
        "      EnsembleParameters.at[index, 'Auc_score'] = roc_score\r\n",
        "    elif row[\"Classifier\"] == \"XGB\":\r\n",
        "      model = xgb.XGBClassifier(n_estimators=row[\"n_estimator\"])\r\n",
        "      model.fit(X_test, y_test)\r\n",
        "      y_pred = model.predict(X_test)\r\n",
        "      accuracy = accuracy_score(y_test, y_pred)\r\n",
        "      roc_score = roc_auc_score(y_test, y_pred)\r\n",
        "      EnsembleParameters.at[index, 'Accuracy'] = accuracy\r\n",
        "      EnsembleParameters.at[index, 'Auc_score'] = roc_score\r\n",
        "\r\n",
        "\r\n",
        "\r\n",
        "model()\r\n",
        "print(EnsembleParameters)\r\n",
        "EnsembleParameters.head()"
      ],
      "execution_count": 40,
      "outputs": [
        {
          "output_type": "stream",
          "text": [
            "       Classifier  n_estimator  Accuracy  Auc_score\n",
            "0   Random Forest          181  0.871814   0.797014\n",
            "1        AdaBoost          181  0.846692   0.750936\n",
            "2  Gradient Boost          181  0.850193   0.763644\n",
            "3             XGB          181  0.850193   0.762926\n"
          ],
          "name": "stdout"
        },
        {
          "output_type": "execute_result",
          "data": {
            "text/html": [
              "<div>\n",
              "<style scoped>\n",
              "    .dataframe tbody tr th:only-of-type {\n",
              "        vertical-align: middle;\n",
              "    }\n",
              "\n",
              "    .dataframe tbody tr th {\n",
              "        vertical-align: top;\n",
              "    }\n",
              "\n",
              "    .dataframe thead th {\n",
              "        text-align: right;\n",
              "    }\n",
              "</style>\n",
              "<table border=\"1\" class=\"dataframe\">\n",
              "  <thead>\n",
              "    <tr style=\"text-align: right;\">\n",
              "      <th></th>\n",
              "      <th>Classifier</th>\n",
              "      <th>n_estimator</th>\n",
              "      <th>Accuracy</th>\n",
              "      <th>Auc_score</th>\n",
              "    </tr>\n",
              "  </thead>\n",
              "  <tbody>\n",
              "    <tr>\n",
              "      <th>0</th>\n",
              "      <td>Random Forest</td>\n",
              "      <td>181</td>\n",
              "      <td>0.871814</td>\n",
              "      <td>0.797014</td>\n",
              "    </tr>\n",
              "    <tr>\n",
              "      <th>1</th>\n",
              "      <td>AdaBoost</td>\n",
              "      <td>181</td>\n",
              "      <td>0.846692</td>\n",
              "      <td>0.750936</td>\n",
              "    </tr>\n",
              "    <tr>\n",
              "      <th>2</th>\n",
              "      <td>Gradient Boost</td>\n",
              "      <td>181</td>\n",
              "      <td>0.850193</td>\n",
              "      <td>0.763644</td>\n",
              "    </tr>\n",
              "    <tr>\n",
              "      <th>3</th>\n",
              "      <td>XGB</td>\n",
              "      <td>181</td>\n",
              "      <td>0.850193</td>\n",
              "      <td>0.762926</td>\n",
              "    </tr>\n",
              "  </tbody>\n",
              "</table>\n",
              "</div>"
            ],
            "text/plain": [
              "       Classifier  n_estimator  Accuracy  Auc_score\n",
              "0   Random Forest          181  0.871814   0.797014\n",
              "1        AdaBoost          181  0.846692   0.750936\n",
              "2  Gradient Boost          181  0.850193   0.763644\n",
              "3             XGB          181  0.850193   0.762926"
            ]
          },
          "metadata": {
            "tags": []
          },
          "execution_count": 40
        }
      ]
    }
  ]
}